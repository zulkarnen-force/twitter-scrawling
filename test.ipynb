{
 "cells": [
  {
   "cell_type": "code",
   "execution_count": 12,
   "id": "6e55adb9",
   "metadata": {},
   "outputs": [
    {
     "data": {
      "text/plain": [
       "'I love you my dear'"
      ]
     },
     "execution_count": 12,
     "metadata": {},
     "output_type": "execute_result"
    }
   ],
   "source": [
    "from googletrans import Translator\n",
    "\n",
    "def to_english(text):\n",
    "    translator = Translator()  \n",
    "    translated = translator.translate(text)\n",
    "    return translated.text\n",
    "\n",
    "to_english(\"aku mencintai kamu sayangku\")\n",
    "# def to_english(tweet):\n",
    "#     return translator.translate(tweet, lang_tgt='en') \n",
    "# translator = google_translator()  \n",
    "\n",
    "# translator.translate(\"aku cinta kamu\")\n",
    "# def to_english(tweet):\n",
    "#     return translator.translate(tweet, lang_tgt='en') "
   ]
  },
  {
   "cell_type": "code",
   "execution_count": 8,
   "id": "3c24fcb2",
   "metadata": {},
   "outputs": [
    {
     "ename": "google_new_transError",
     "evalue": "404 (Not Found) from TTS API. Probable cause: Unknown",
     "output_type": "error",
     "traceback": [
      "\u001b[1;31m---------------------------------------------------------------------------\u001b[0m",
      "\u001b[1;31mHTTPError\u001b[0m                                 Traceback (most recent call last)",
      "File \u001b[1;32m~\\Developments\\twitter-scrawling\\venv\\lib\\site-packages\\google_trans_new\\google_trans_new.py:189\u001b[0m, in \u001b[0;36mgoogle_translator.translate\u001b[1;34m(self, text, lang_tgt, lang_src, pronounce)\u001b[0m\n\u001b[0;32m    188\u001b[0m                 \u001b[38;5;28;01mraise\u001b[39;00m e\n\u001b[1;32m--> 189\u001b[0m     \u001b[43mr\u001b[49m\u001b[38;5;241;43m.\u001b[39;49m\u001b[43mraise_for_status\u001b[49m\u001b[43m(\u001b[49m\u001b[43m)\u001b[49m\n\u001b[0;32m    190\u001b[0m \u001b[38;5;28;01mexcept\u001b[39;00m requests\u001b[38;5;241m.\u001b[39mexceptions\u001b[38;5;241m.\u001b[39mConnectTimeout \u001b[38;5;28;01mas\u001b[39;00m e:\n",
      "File \u001b[1;32m~\\Developments\\twitter-scrawling\\venv\\lib\\site-packages\\requests\\models.py:1021\u001b[0m, in \u001b[0;36mResponse.raise_for_status\u001b[1;34m(self)\u001b[0m\n\u001b[0;32m   1020\u001b[0m \u001b[38;5;28;01mif\u001b[39;00m http_error_msg:\n\u001b[1;32m-> 1021\u001b[0m     \u001b[38;5;28;01mraise\u001b[39;00m HTTPError(http_error_msg, response\u001b[38;5;241m=\u001b[39m\u001b[38;5;28mself\u001b[39m)\n",
      "\u001b[1;31mHTTPError\u001b[0m: 404 Client Error: Not Found for url: https://translate.google.cn/_/TranslateWebserverUi/data/batchexecute",
      "\nDuring handling of the above exception, another exception occurred:\n",
      "\u001b[1;31mgoogle_new_transError\u001b[0m                     Traceback (most recent call last)",
      "Cell \u001b[1;32mIn [8], line 4\u001b[0m\n\u001b[0;32m      1\u001b[0m \u001b[38;5;28;01mfrom\u001b[39;00m \u001b[38;5;21;01mgoogle_trans_new\u001b[39;00m \u001b[38;5;28;01mimport\u001b[39;00m google_translator  \n\u001b[0;32m      3\u001b[0m translator \u001b[38;5;241m=\u001b[39m google_translator()  \n\u001b[1;32m----> 4\u001b[0m translate_text \u001b[38;5;241m=\u001b[39m \u001b[43mtranslator\u001b[49m\u001b[38;5;241;43m.\u001b[39;49m\u001b[43mtranslate\u001b[49m\u001b[43m(\u001b[49m\u001b[38;5;124;43m'\u001b[39;49m\u001b[38;5;124;43mHola mundo!\u001b[39;49m\u001b[38;5;124;43m'\u001b[39;49m\u001b[43m,\u001b[49m\u001b[43m \u001b[49m\u001b[43mlang_src\u001b[49m\u001b[38;5;241;43m=\u001b[39;49m\u001b[38;5;124;43m'\u001b[39;49m\u001b[38;5;124;43mes\u001b[39;49m\u001b[38;5;124;43m'\u001b[39;49m\u001b[43m,\u001b[49m\u001b[43m \u001b[49m\u001b[43mlang_tgt\u001b[49m\u001b[38;5;241;43m=\u001b[39;49m\u001b[38;5;124;43m'\u001b[39;49m\u001b[38;5;124;43men\u001b[39;49m\u001b[38;5;124;43m'\u001b[39;49m\u001b[43m)\u001b[49m  \n\u001b[0;32m      5\u001b[0m \u001b[38;5;28mprint\u001b[39m(translate_text)\n",
      "File \u001b[1;32m~\\Developments\\twitter-scrawling\\venv\\lib\\site-packages\\google_trans_new\\google_trans_new.py:194\u001b[0m, in \u001b[0;36mgoogle_translator.translate\u001b[1;34m(self, text, lang_tgt, lang_src, pronounce)\u001b[0m\n\u001b[0;32m    191\u001b[0m     \u001b[38;5;28;01mraise\u001b[39;00m e\n\u001b[0;32m    192\u001b[0m \u001b[38;5;28;01mexcept\u001b[39;00m requests\u001b[38;5;241m.\u001b[39mexceptions\u001b[38;5;241m.\u001b[39mHTTPError \u001b[38;5;28;01mas\u001b[39;00m e:\n\u001b[0;32m    193\u001b[0m     \u001b[38;5;66;03m# Request successful, bad response\u001b[39;00m\n\u001b[1;32m--> 194\u001b[0m     \u001b[38;5;28;01mraise\u001b[39;00m google_new_transError(tts\u001b[38;5;241m=\u001b[39m\u001b[38;5;28mself\u001b[39m, response\u001b[38;5;241m=\u001b[39mr)\n\u001b[0;32m    195\u001b[0m \u001b[38;5;28;01mexcept\u001b[39;00m requests\u001b[38;5;241m.\u001b[39mexceptions\u001b[38;5;241m.\u001b[39mRequestException \u001b[38;5;28;01mas\u001b[39;00m e:\n\u001b[0;32m    196\u001b[0m     \u001b[38;5;66;03m# Request failed\u001b[39;00m\n\u001b[0;32m    197\u001b[0m     \u001b[38;5;28;01mraise\u001b[39;00m google_new_transError(tts\u001b[38;5;241m=\u001b[39m\u001b[38;5;28mself\u001b[39m)\n",
      "\u001b[1;31mgoogle_new_transError\u001b[0m: 404 (Not Found) from TTS API. Probable cause: Unknown"
     ]
    }
   ],
   "source": [
    "from google_trans_new import google_translator  \n",
    "  \n",
    "translator = google_translator()  \n",
    "translate_text = translator.translate('Hola mundo!', lang_src='es', lang_tgt='en')  \n",
    "print(translate_text)"
   ]
  },
  {
   "cell_type": "code",
   "execution_count": null,
   "id": "44ac3001",
   "metadata": {},
   "outputs": [],
   "source": []
  }
 ],
 "metadata": {
  "kernelspec": {
   "display_name": "venv",
   "language": "python",
   "name": "venv"
  },
  "language_info": {
   "codemirror_mode": {
    "name": "ipython",
    "version": 3
   },
   "file_extension": ".py",
   "mimetype": "text/x-python",
   "name": "python",
   "nbconvert_exporter": "python",
   "pygments_lexer": "ipython3",
   "version": "3.10.3"
  }
 },
 "nbformat": 4,
 "nbformat_minor": 5
}
