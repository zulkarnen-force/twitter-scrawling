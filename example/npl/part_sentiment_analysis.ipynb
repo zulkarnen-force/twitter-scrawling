{
 "cells": [
  {
   "cell_type": "code",
   "execution_count": null,
   "metadata": {
    "hideCode": false,
    "hidePrompt": false,
    "id": "o34eNrzdX6c9"
   },
   "outputs": [],
   "source": [
    "import tweepy"
   ]
  },
  {
   "cell_type": "code",
   "execution_count": null,
   "metadata": {
    "hideCode": false,
    "hidePrompt": false,
    "id": "sY66hnBOX6dN",
    "scrolled": true
   },
   "outputs": [],
   "source": []
  },
  {
   "cell_type": "code",
   "execution_count": null,
   "metadata": {
    "id": "nPdkhb9DX6dP"
   },
   "outputs": [],
   "source": [
    "consumer_key = ''\n",
    "consumer_secret = ''\n",
    "access_token = ''\n",
    "access_token_secret = ''"
   ]
  },
  {
   "cell_type": "code",
   "execution_count": null,
   "metadata": {
    "hideCode": false,
    "hidePrompt": false,
    "id": "BveKfmKRX6dP"
   },
   "outputs": [],
   "source": [
    "auth = tweepy.OAuthHandler(consumer_key,consumer_secret)\n",
    "auth.set_access_token(access_token,access_token_secret)\n",
    "api = tweepy.API(auth)"
   ]
  },
  {
   "cell_type": "code",
   "execution_count": null,
   "metadata": {
    "hideCode": false,
    "hidePrompt": false,
    "id": "-_wCGbdxX6dQ",
    "outputId": "07890a7e-94d2-40eb-90d0-5fa72ab5264d"
   },
   "outputs": [
    {
     "name": "stdout",
     "output_type": "stream",
     "text": [
      "show the 5 recent tweet: \n",
      "\n",
      "1) Tahun 2021 juga tetap kita isi dengan pembangunan infrastruktur dan sumber daya manusia seperti yang telah dicanangkan. \n",
      "\n",
      "Anggaran besar kita kucurkan untuk pembangunan bendungan, jaringan irigasi, jalan, jalur kereta api, bandara, sampai rumah-rumah susun di seluruh Indonesia.\n",
      "\n",
      "2) Tahun ini, pemerintah akan menggelar vaksinasi massal Covid-19. Indonesia telah mengamankan pasokan vaksin dari Sinovac, Novavax, AstraZeneca, dan BioNTech-Pfizer. \n",
      "\n",
      "Pemerintah juga melanjutkan program perlindungan sosial seperti kartu sembako, bansos tunai, Kartu Prakerja, dll.\n",
      "\n",
      "3) Kita memasuki tahun 2021 dengan langkah yang lebih tegap. Pelajaran yang mahal, pengorbanan tiada tepermanai selama masa pandemi, membuat kita lebih siap. \n",
      "\n",
      "Mari bersama-sama melangkah melewati ambang tahun yang baru ini dengan penuh semangat dan harapan. https://t.co/LRHYSxgjak\n",
      "\n",
      "4) 2020 adalah tahun penuh ujian dan tantangan yang berdampak pada semua bidang kehidupan selain kesehatan dan perekonomian.\n",
      "\n",
      "Inilah momen-momen yang patut menjadi catatan dan ingatan kita tentang Indonesia tahun 2020 di tengah pandemi.\n",
      "\n",
      "https://t.co/1jrWDDMcTA\n",
      "\n",
      "5) Sepanjang 2020, di tengah pergulatan menangani pandemi, kita tetap melaksanakan pembangunan di berbagai bidang, dari infrastruktur, SDM, juga keikutsertaan di pelbagai ajang pergaulan dunia.\n",
      "\n",
      "Beberapa di antaranya patut menjadi catatan dan ingatan kita.\n",
      "\n",
      "https://t.co/V0gMcf6Drb\n",
      "\n",
      "6) Kita mencatat tahun 2020 sebagai tahun ujian yang amat berat, bagi dunia, bagi Indonesia. Alhamdulillah, kita mampu melewatinya dengan ketegaran. \n",
      "\n",
      "Memasuki tahun 2021, Indonesia akan bangkit dan pulih, dengan satu syarat: berhasil mengatasi pandemi ini.\n",
      "\n",
      "https://t.co/YTE5hRlOFf\n",
      "\n",
      "7) Selain vaksin dari Sinovac (Tiongkok) Indonesia juga telah mengamankan pasokan vaksin dari Novavax (Amerika Serikat), AstraZeneca (Inggris), dan BioNTech-Pfizer (Jerman-AS).\n",
      "\n",
      "8) Sebanyak 1,8 juta vaksin Covid-19 kembali tiba di Tanah Air dengan pesawat Garuda Indonesia, siang tadi. \n",
      "\n",
      "Kedatangan vaksin dari perusahaan Sinovac ini adalah yang kedua kalinya setelah 1,2 juta vaksin Sinovac yang tiba 6 Desember lalu. https://t.co/wciaXCsrWZ\n",
      "\n",
      "9) Mengapa Januari? Ini menyangkut daya beli masyarakat, konsumsi rumah tangga, sekaligus daya ungkit untuk memacu pertumbuhan ekonomi.\n",
      "\n",
      "Bansos harus disalurkan tepat sasaran. Jika perlu perbaikan data, pemerintah daerah akan dilibatkan. Dan jangan ada potongan dalam bentuk apapun.\n",
      "\n",
      "10) Pada APBN tahun 2021, pemerintah menyiapkan Rp110 triliun untuk program perlindungan sosial berupa kartu sembako, Program Keluarga Harapan, bansos tunai, Kartu Prakerja, Dana Desa, dan diskon listrik. \n",
      "\n",
      "Saya telah memerintahkan agar bansos segera disalurkan di bulan Januari. https://t.co/QVvgYUAHpz\n",
      "\n"
     ]
    }
   ],
   "source": [
    "#ekstract 100 tweets from the twitter user\n",
    "posts = api.user_timeline(screen_name=\"@jokowi\", count=100, lang=\"id\", tweet_mode=\"extended\")\n",
    "\n",
    "#print the last 5 tweets form the account\n",
    "print(\"show the 5 recent tweet: \\n\")  \n",
    "#and lt show the tweet from zero to five\n",
    "i = 1\n",
    "for tweet in posts [0:10]:\n",
    "    print(str(i)+') '+tweet.full_text  + '\\n')\n",
    "    i=i+1"
   ]
  },
  {
   "cell_type": "code",
   "execution_count": null,
   "metadata": {
    "hideCode": false,
    "hidePrompt": false,
    "id": "yPQVdMu4X6dT",
    "outputId": "e70e63c1-bda2-49a3-a88c-417b9bbcbe70"
   },
   "outputs": [
    {
     "data": {
      "text/html": [
       "<div>\n",
       "<style scoped>\n",
       "    .dataframe tbody tr th:only-of-type {\n",
       "        vertical-align: middle;\n",
       "    }\n",
       "\n",
       "    .dataframe tbody tr th {\n",
       "        vertical-align: top;\n",
       "    }\n",
       "\n",
       "    .dataframe thead th {\n",
       "        text-align: right;\n",
       "    }\n",
       "</style>\n",
       "<table border=\"1\" class=\"dataframe\">\n",
       "  <thead>\n",
       "    <tr style=\"text-align: right;\">\n",
       "      <th></th>\n",
       "      <th>Tweets</th>\n",
       "    </tr>\n",
       "  </thead>\n",
       "  <tbody>\n",
       "    <tr>\n",
       "      <th>0</th>\n",
       "      <td>Tahun 2021 juga tetap kita isi dengan pembangu...</td>\n",
       "    </tr>\n",
       "    <tr>\n",
       "      <th>1</th>\n",
       "      <td>Tahun ini, pemerintah akan menggelar vaksinasi...</td>\n",
       "    </tr>\n",
       "    <tr>\n",
       "      <th>2</th>\n",
       "      <td>Kita memasuki tahun 2021 dengan langkah yang l...</td>\n",
       "    </tr>\n",
       "    <tr>\n",
       "      <th>3</th>\n",
       "      <td>2020 adalah tahun penuh ujian dan tantangan ya...</td>\n",
       "    </tr>\n",
       "    <tr>\n",
       "      <th>4</th>\n",
       "      <td>Sepanjang 2020, di tengah pergulatan menangani...</td>\n",
       "    </tr>\n",
       "  </tbody>\n",
       "</table>\n",
       "</div>"
      ],
      "text/plain": [
       "                                              Tweets\n",
       "0  Tahun 2021 juga tetap kita isi dengan pembangu...\n",
       "1  Tahun ini, pemerintah akan menggelar vaksinasi...\n",
       "2  Kita memasuki tahun 2021 dengan langkah yang l...\n",
       "3  2020 adalah tahun penuh ujian dan tantangan ya...\n",
       "4  Sepanjang 2020, di tengah pergulatan menangani..."
      ]
     },
     "execution_count": 22,
     "metadata": {
      "tags": []
     },
     "output_type": "execute_result"
    }
   ],
   "source": [
    "import pandas as pd\n",
    "#membuat dataframe dan sebuah collumn yang kita akan namakan tweet\n",
    "df=pd.DataFrame([tweet.full_text  for tweet in posts], columns=['Tweets'])\n",
    "#show 5 data \n",
    "\n",
    "df.head()"
   ]
  },
  {
   "cell_type": "code",
   "execution_count": null,
   "metadata": {
    "hideCode": false,
    "hidePrompt": false,
    "id": "0fh1n2_0X6dU",
    "outputId": "af2600f3-edc8-4553-fb6f-3244f0ac6927"
   },
   "outputs": [
    {
     "data": {
      "text/html": [
       "<div>\n",
       "<style scoped>\n",
       "    .dataframe tbody tr th:only-of-type {\n",
       "        vertical-align: middle;\n",
       "    }\n",
       "\n",
       "    .dataframe tbody tr th {\n",
       "        vertical-align: top;\n",
       "    }\n",
       "\n",
       "    .dataframe thead th {\n",
       "        text-align: right;\n",
       "    }\n",
       "</style>\n",
       "<table border=\"1\" class=\"dataframe\">\n",
       "  <thead>\n",
       "    <tr style=\"text-align: right;\">\n",
       "      <th></th>\n",
       "      <th>Tweets</th>\n",
       "    </tr>\n",
       "  </thead>\n",
       "  <tbody>\n",
       "    <tr>\n",
       "      <th>0</th>\n",
       "      <td>Tahun 2021 juga tetap kita isi dengan pembangu...</td>\n",
       "    </tr>\n",
       "    <tr>\n",
       "      <th>1</th>\n",
       "      <td>Tahun ini pemerintah akan menggelar vaksinasi ...</td>\n",
       "    </tr>\n",
       "    <tr>\n",
       "      <th>2</th>\n",
       "      <td>Kita memasuki tahun 2021 dengan langkah yang l...</td>\n",
       "    </tr>\n",
       "    <tr>\n",
       "      <th>3</th>\n",
       "      <td>2020 adalah tahun penuh ujian dan tantangan ya...</td>\n",
       "    </tr>\n",
       "    <tr>\n",
       "      <th>4</th>\n",
       "      <td>Sepanjang 2020 di tengah pergulatan menangani ...</td>\n",
       "    </tr>\n",
       "    <tr>\n",
       "      <th>...</th>\n",
       "      <td>...</td>\n",
       "    </tr>\n",
       "    <tr>\n",
       "      <th>95</th>\n",
       "      <td>Pencalonan ini bukanlah untuk gagahgagahan mel...</td>\n",
       "    </tr>\n",
       "    <tr>\n",
       "      <th>96</th>\n",
       "      <td>Indonesia mengajukan diri jadi tuan rumah  Oli...</td>\n",
       "    </tr>\n",
       "    <tr>\n",
       "      <th>97</th>\n",
       "      <td>Apresiasi yang tinggi bagi para penggerak keru...</td>\n",
       "    </tr>\n",
       "    <tr>\n",
       "      <th>98</th>\n",
       "      <td>Kerukunan antarumat beragama di negeri ini tid...</td>\n",
       "    </tr>\n",
       "    <tr>\n",
       "      <th>99</th>\n",
       "      <td>Pandemi Covid19 ini harus jadi momentum memper...</td>\n",
       "    </tr>\n",
       "  </tbody>\n",
       "</table>\n",
       "<p>100 rows × 1 columns</p>\n",
       "</div>"
      ],
      "text/plain": [
       "                                               Tweets\n",
       "0   Tahun 2021 juga tetap kita isi dengan pembangu...\n",
       "1   Tahun ini pemerintah akan menggelar vaksinasi ...\n",
       "2   Kita memasuki tahun 2021 dengan langkah yang l...\n",
       "3   2020 adalah tahun penuh ujian dan tantangan ya...\n",
       "4   Sepanjang 2020 di tengah pergulatan menangani ...\n",
       "..                                                ...\n",
       "95  Pencalonan ini bukanlah untuk gagahgagahan mel...\n",
       "96  Indonesia mengajukan diri jadi tuan rumah  Oli...\n",
       "97  Apresiasi yang tinggi bagi para penggerak keru...\n",
       "98  Kerukunan antarumat beragama di negeri ini tid...\n",
       "99  Pandemi Covid19 ini harus jadi momentum memper...\n",
       "\n",
       "[100 rows x 1 columns]"
      ]
     },
     "execution_count": 6,
     "metadata": {
      "tags": []
     },
     "output_type": "execute_result"
    }
   ],
   "source": [
    "import re,string\n",
    "#we have to clean text\n",
    "#create a fungction to clean teh tweets\n",
    " #kita akan menggunakan fungction clean dan dia akan memabwa beberapa take\n",
    "def cleanTxt(text):\n",
    "    #dan we are going to set text equals to the removal of these words and symbol\n",
    " #untuk remove @mentioned\n",
    "    text = re.sub(r'@[A-Za-z-0-9]+','',text) #r memberi tahu python bawah the expression is raw string\n",
    "   #for removing hashtag\n",
    "    text = re.sub(r'#','',text)\n",
    "    #remove rt\n",
    "    text = re.sub(r'RT[\\s]+','',text)#Removing RT\n",
    "    text = re.sub(r'https?:\\/\\/\\S+','',text)#removelink\n",
    "    text = re.sub('[%s]' % re.escape(string.punctuation), '', text)\n",
    "    return text\n",
    "#clean proccess\n",
    "#applied text fungction above \n",
    "df['Tweets'] = df['Tweets'].apply(cleanTxt)\n",
    "#show the cleaned text\n",
    "df"
   ]
  },
  {
   "cell_type": "code",
   "execution_count": null,
   "metadata": {
    "hideCode": false,
    "hidePrompt": false,
    "id": "QoTd2-cOX6dV",
    "outputId": "3ff5af0d-b954-43ad-df51-c9f4e6e79e59"
   },
   "outputs": [
    {
     "data": {
      "text/html": [
       "<div>\n",
       "<style scoped>\n",
       "    .dataframe tbody tr th:only-of-type {\n",
       "        vertical-align: middle;\n",
       "    }\n",
       "\n",
       "    .dataframe tbody tr th {\n",
       "        vertical-align: top;\n",
       "    }\n",
       "\n",
       "    .dataframe thead th {\n",
       "        text-align: right;\n",
       "    }\n",
       "</style>\n",
       "<table border=\"1\" class=\"dataframe\">\n",
       "  <thead>\n",
       "    <tr style=\"text-align: right;\">\n",
       "      <th></th>\n",
       "      <th>Tweets</th>\n",
       "    </tr>\n",
       "  </thead>\n",
       "  <tbody>\n",
       "    <tr>\n",
       "      <th>0</th>\n",
       "      <td>Tahun 2021 juga tetap kita isi dengan pembangu...</td>\n",
       "    </tr>\n",
       "    <tr>\n",
       "      <th>1</th>\n",
       "      <td>Tahun ini, pemerintah akan menggelar vaksinasi...</td>\n",
       "    </tr>\n",
       "    <tr>\n",
       "      <th>2</th>\n",
       "      <td>Kita memasuki tahun 2021 dengan langkah yang l...</td>\n",
       "    </tr>\n",
       "    <tr>\n",
       "      <th>3</th>\n",
       "      <td>2020 adalah tahun penuh ujian dan tantangan ya...</td>\n",
       "    </tr>\n",
       "    <tr>\n",
       "      <th>4</th>\n",
       "      <td>Sepanjang 2020, di tengah pergulatan menangani...</td>\n",
       "    </tr>\n",
       "    <tr>\n",
       "      <th>...</th>\n",
       "      <td>...</td>\n",
       "    </tr>\n",
       "    <tr>\n",
       "      <th>95</th>\n",
       "      <td>Pencalonan ini bukanlah untuk gagah-gagahan, m...</td>\n",
       "    </tr>\n",
       "    <tr>\n",
       "      <th>96</th>\n",
       "      <td>Indonesia mengajukan diri jadi tuan rumah  Oli...</td>\n",
       "    </tr>\n",
       "    <tr>\n",
       "      <th>97</th>\n",
       "      <td>Apresiasi yang tinggi bagi para penggerak keru...</td>\n",
       "    </tr>\n",
       "    <tr>\n",
       "      <th>98</th>\n",
       "      <td>Kerukunan antarumat beragama di negeri ini tid...</td>\n",
       "    </tr>\n",
       "    <tr>\n",
       "      <th>99</th>\n",
       "      <td>Pandemi Covid-19 ini harus jadi momentum mempe...</td>\n",
       "    </tr>\n",
       "  </tbody>\n",
       "</table>\n",
       "<p>100 rows × 1 columns</p>\n",
       "</div>"
      ],
      "text/plain": [
       "                                               Tweets\n",
       "0   Tahun 2021 juga tetap kita isi dengan pembangu...\n",
       "1   Tahun ini, pemerintah akan menggelar vaksinasi...\n",
       "2   Kita memasuki tahun 2021 dengan langkah yang l...\n",
       "3   2020 adalah tahun penuh ujian dan tantangan ya...\n",
       "4   Sepanjang 2020, di tengah pergulatan menangani...\n",
       "..                                                ...\n",
       "95  Pencalonan ini bukanlah untuk gagah-gagahan, m...\n",
       "96  Indonesia mengajukan diri jadi tuan rumah  Oli...\n",
       "97  Apresiasi yang tinggi bagi para penggerak keru...\n",
       "98  Kerukunan antarumat beragama di negeri ini tid...\n",
       "99  Pandemi Covid-19 ini harus jadi momentum mempe...\n",
       "\n",
       "[100 rows x 1 columns]"
      ]
     },
     "execution_count": 23,
     "metadata": {
      "tags": []
     },
     "output_type": "execute_result"
    }
   ],
   "source": [
    "def deEmojify(text):\n",
    "    regrex_pattern = re.compile(pattern = \"[\"\n",
    "        u\"\\U0001F600-\\U0001F64F\"  # emoticons\n",
    "        u\"\\U0001F300-\\U0001F5FF\"  # symbols & pictographs\n",
    "        u\"\\U0001F680-\\U0001F6FF\"  # transport & map symbols\n",
    "        u\"\\U0001F1E0-\\U0001F1FF\"  # flags (iOS)\n",
    "                           \"]+\", flags = re.UNICODE)\n",
    "    return regrex_pattern.sub(r'',text)\n",
    "df['Tweets'] = df['Tweets'].apply(deEmojify)\n",
    "df"
   ]
  },
  {
   "cell_type": "code",
   "execution_count": null,
   "metadata": {
    "hideCode": false,
    "hidePrompt": false,
    "id": "jb9CMwv5X6dW",
    "outputId": "1f9db73b-bb5b-4634-ad5e-3fafad79af09"
   },
   "outputs": [
    {
     "name": "stdout",
     "output_type": "stream",
     "text": [
      "Aku pernah mendengar Aisya bercerita sebenarnya tidak terlalu senang kabar yang oleh orang tuanya.\n"
     ]
    }
   ],
   "source": [
    "from Sastrawi.Stemmer.StemmerFactory import StemmerFactory\n",
    "from Sastrawi.StopWordRemover.StopWordRemoverFactory import StopWordRemoverFactory\n",
    "from nltk.tokenize import word_tokenize #libray untuk tokenizing\n",
    "factory = StopWordRemoverFactory()\n",
    "stopword = factory.create_stop_word_remover()+more\n",
    " \n",
    "# create stemmer\n",
    "factory = StemmerFactory()\n",
    "stemmer = factory.create_stemmer()\n",
    "\n",
    "from Sastrawi.StopWordRemover.StopWordRemoverFactory import StopWordRemoverFactory, StopWordRemover, ArrayDictionary\n",
    " \n",
    "s = 'Aku pernah mendengar Aisya bercerita bahwa sebenarnya ia tidak terlalu senang dengan kabar perjodohan yang diatur oleh orang tuanya.'\n",
    " \n"
   ]
  },
  {
   "cell_type": "code",
   "execution_count": null,
   "metadata": {
    "hideCode": false,
    "hidePrompt": false,
    "id": "4LbYhcGOX6dY"
   },
   "outputs": [],
   "source": [
    "\n",
    "def prepro(data):\n",
    "    dataB=[]\n",
    "    for i in df['Tweets']:                   \n",
    "        casefold = i.lower();\n",
    "        stopW = stopword.remove(casefold)   \n",
    "        stemming = stemmer.stem(stopW)\n",
    "        dataB.append(stemming)\n",
    "    return dataB\n",
    "\n",
    "\n",
    "df['prepro'] =df.apply(prepro)\n"
   ]
  },
  {
   "cell_type": "code",
   "execution_count": null,
   "metadata": {
    "hideCode": false,
    "hidePrompt": false,
    "id": "YuD3ytKGX6dY",
    "outputId": "f6158688-7db4-468d-eb62-0410745d5ae0"
   },
   "outputs": [
    {
     "data": {
      "text/html": [
       "<div>\n",
       "<style scoped>\n",
       "    .dataframe tbody tr th:only-of-type {\n",
       "        vertical-align: middle;\n",
       "    }\n",
       "\n",
       "    .dataframe tbody tr th {\n",
       "        vertical-align: top;\n",
       "    }\n",
       "\n",
       "    .dataframe thead th {\n",
       "        text-align: right;\n",
       "    }\n",
       "</style>\n",
       "<table border=\"1\" class=\"dataframe\">\n",
       "  <thead>\n",
       "    <tr style=\"text-align: right;\">\n",
       "      <th></th>\n",
       "      <th>Tweets</th>\n",
       "      <th>prepro</th>\n",
       "    </tr>\n",
       "  </thead>\n",
       "  <tbody>\n",
       "    <tr>\n",
       "      <th>0</th>\n",
       "      <td>Tahun 2021 juga tetap kita isi dengan pembangu...</td>\n",
       "      <td>tahun 2021 tetap isi bangun infrastruktur sumb...</td>\n",
       "    </tr>\n",
       "    <tr>\n",
       "      <th>1</th>\n",
       "      <td>Tahun ini pemerintah akan menggelar vaksinasi ...</td>\n",
       "      <td>tahun perintah gelar vaksinasi massal covid19 ...</td>\n",
       "    </tr>\n",
       "    <tr>\n",
       "      <th>2</th>\n",
       "      <td>Kita memasuki tahun 2021 dengan langkah yang l...</td>\n",
       "      <td>pasuk tahun 2021 langkah lebih tegap ajar maha...</td>\n",
       "    </tr>\n",
       "    <tr>\n",
       "      <th>3</th>\n",
       "      <td>2020 adalah tahun penuh ujian dan tantangan ya...</td>\n",
       "      <td>2020 tahun penuh uji tantang dampak semua bida...</td>\n",
       "    </tr>\n",
       "    <tr>\n",
       "      <th>4</th>\n",
       "      <td>Sepanjang 2020 di tengah pergulatan menangani ...</td>\n",
       "      <td>panjang 2020 tengah gulat tangan pandemi tetap...</td>\n",
       "    </tr>\n",
       "    <tr>\n",
       "      <th>...</th>\n",
       "      <td>...</td>\n",
       "      <td>...</td>\n",
       "    </tr>\n",
       "    <tr>\n",
       "      <th>95</th>\n",
       "      <td>Pencalonan ini bukanlah untuk gagahgagahan mel...</td>\n",
       "      <td>calon bukan gagahgagahan salah satu cara tingk...</td>\n",
       "    </tr>\n",
       "    <tr>\n",
       "      <th>96</th>\n",
       "      <td>Indonesia mengajukan diri jadi tuan rumah  Oli...</td>\n",
       "      <td>indonesia aju diri jadi tuan rumah olimpiade 2...</td>\n",
       "    </tr>\n",
       "    <tr>\n",
       "      <th>97</th>\n",
       "      <td>Apresiasi yang tinggi bagi para penggerak keru...</td>\n",
       "      <td>apresiasi tinggi para gerak rukun umat agama d...</td>\n",
       "    </tr>\n",
       "    <tr>\n",
       "      <th>98</th>\n",
       "      <td>Kerukunan antarumat beragama di negeri ini tid...</td>\n",
       "      <td>rukun antarumat agama negeri tidak muncul tiba...</td>\n",
       "    </tr>\n",
       "    <tr>\n",
       "      <th>99</th>\n",
       "      <td>Pandemi Covid19 ini harus jadi momentum memper...</td>\n",
       "      <td>pandemi covid19 harus jadi momentum baik ekosi...</td>\n",
       "    </tr>\n",
       "  </tbody>\n",
       "</table>\n",
       "<p>100 rows × 2 columns</p>\n",
       "</div>"
      ],
      "text/plain": [
       "                                               Tweets  \\\n",
       "0   Tahun 2021 juga tetap kita isi dengan pembangu...   \n",
       "1   Tahun ini pemerintah akan menggelar vaksinasi ...   \n",
       "2   Kita memasuki tahun 2021 dengan langkah yang l...   \n",
       "3   2020 adalah tahun penuh ujian dan tantangan ya...   \n",
       "4   Sepanjang 2020 di tengah pergulatan menangani ...   \n",
       "..                                                ...   \n",
       "95  Pencalonan ini bukanlah untuk gagahgagahan mel...   \n",
       "96  Indonesia mengajukan diri jadi tuan rumah  Oli...   \n",
       "97  Apresiasi yang tinggi bagi para penggerak keru...   \n",
       "98  Kerukunan antarumat beragama di negeri ini tid...   \n",
       "99  Pandemi Covid19 ini harus jadi momentum memper...   \n",
       "\n",
       "                                               prepro  \n",
       "0   tahun 2021 tetap isi bangun infrastruktur sumb...  \n",
       "1   tahun perintah gelar vaksinasi massal covid19 ...  \n",
       "2   pasuk tahun 2021 langkah lebih tegap ajar maha...  \n",
       "3   2020 tahun penuh uji tantang dampak semua bida...  \n",
       "4   panjang 2020 tengah gulat tangan pandemi tetap...  \n",
       "..                                                ...  \n",
       "95  calon bukan gagahgagahan salah satu cara tingk...  \n",
       "96  indonesia aju diri jadi tuan rumah olimpiade 2...  \n",
       "97  apresiasi tinggi para gerak rukun umat agama d...  \n",
       "98  rukun antarumat agama negeri tidak muncul tiba...  \n",
       "99  pandemi covid19 harus jadi momentum baik ekosi...  \n",
       "\n",
       "[100 rows x 2 columns]"
      ]
     },
     "execution_count": 10,
     "metadata": {
      "tags": []
     },
     "output_type": "execute_result"
    }
   ],
   "source": [
    "df"
   ]
  },
  {
   "cell_type": "code",
   "execution_count": null,
   "metadata": {
    "id": "YxN8lrdgX6dZ"
   },
   "outputs": [],
   "source": []
  },
  {
   "cell_type": "code",
   "execution_count": null,
   "metadata": {
    "id": "FCIeW5fCX6da"
   },
   "outputs": [],
   "source": []
  },
  {
   "cell_type": "code",
   "execution_count": null,
   "metadata": {
    "id": "Uldi0yFMX6da"
   },
   "outputs": [],
   "source": []
  },
  {
   "cell_type": "code",
   "execution_count": null,
   "metadata": {
    "id": "gs3bEIieX6db"
   },
   "outputs": [],
   "source": []
  },
  {
   "cell_type": "code",
   "execution_count": null,
   "metadata": {
    "hideCode": false,
    "hidePrompt": false,
    "id": "u4f88CKnX6db",
    "outputId": "f72ea75f-410c-4887-b50d-eee7284b2aee"
   },
   "outputs": [
    {
     "data": {
      "image/png": "[encoded data removed]",
      "text/plain": [
       "<Figure size 432x288 with 1 Axes>"
      ]
     },
     "metadata": {
      "needs_background": "light",
      "tags": []
     },
     "output_type": "display_data"
    }
   ],
   "source": [
    "from wordcloud import WordCloud\n",
    "import matplotlib.pyplot as plt\n",
    "# plot the word cloud \n",
    "allWord = ' '.join([twts for twts in df['prepro']])\n",
    "#sekarang kita akan memanggil verbal word cloud\n",
    "wordCloud = WordCloud(width = 500,height=300, random_state=21, max_font_size=119).generate(allWord)\n",
    "\n",
    "plt.imshow(wordCloud, interpolation = \"bilinear\")\n",
    "plt.axis('off')\n",
    "plt.show()"
   ]
  },
  {
   "cell_type": "code",
   "execution_count": null,
   "metadata": {
    "hideCode": false,
    "hidePrompt": false,
    "id": "VRRucEy_X6dc"
   },
   "outputs": [],
   "source": [
    "import nltk.classify.util\n",
    "from nltk.classify import NaiveBayesClassifier\n",
    " \n",
    "def word_feats(words):\n",
    "    return dict([(word, True) for word in words])\n",
    "\n",
    "def bentukClassifier(P,Ne,Nt):\n",
    "    positive_features = [(word_feats(pos), 'pos') for pos in P]\n",
    "    negative_features = [(word_feats(neg), 'neg') for neg in Ne]\n",
    "    neutral_features = [(word_feats(neu), 'neu') for neu in Nt]\n",
    "    train_set = negative_features + positive_features + neutral_features\n",
    "    return NaiveBayesClassifier.train(train_set)\n",
    "\n",
    "def prediksiSentiment(sentence, model):\n",
    "    pos, neg = 0, 0\n",
    "    words = sentence.lower().split(' ')\n",
    "    for word in words:\n",
    "        classResult = model.classify( word_feats(word))\n",
    "        if classResult == neg:\n",
    "            neg = neg + 1\n",
    "        if classResult == pos:\n",
    "            pos = pos + 1\n",
    "    if pos > neg:\n",
    "        return 'positive'\n",
    "    elif pos==neg:\n",
    "        return 'netral'\n",
    "    else:\n",
    "        return 'negative'\n"
   ]
  },
  {
   "cell_type": "code",
   "execution_count": null,
   "metadata": {
    "hideCode": false,
    "hidePrompt": false,
    "id": "_7pOG7kxX6dd"
   },
   "outputs": [],
   "source": []
  },
  {
   "cell_type": "code",
   "execution_count": null,
   "metadata": {
    "hideCode": false,
    "hidePrompt": false,
    "id": "_3zrYFuMX6de"
   },
   "outputs": [],
   "source": [
    "\n",
    "P = ['bagus','keren','suka','suka banget']\n",
    "Ne = [ 'jelek', 'benci','buruk', 'najis', ':(']\n",
    "Nt = [ 'bakso','film','pisang','pagi','makan','kopi','minum','sambil','abis']\n",
    "\n",
    "model = bentukClassifier(P,Ne,Nt)"
   ]
  },
  {
   "cell_type": "code",
   "execution_count": null,
   "metadata": {
    "colab": {
     "base_uri": "https://localhost:8080/",
     "height": 35
    },
    "hideCode": false,
    "hidePrompt": false,
    "id": "BTCDO9n8X6df",
    "outputId": "4d3db562-fff0-4672-a760-f9de7e21d560"
   },
   "outputs": [
    {
     "data": {
      "application/vnd.google.colaboratory.intrinsic+json": {
       "type": "string"
      },
      "text/plain": [
       "'netral'"
      ]
     },
     "execution_count": 9,
     "metadata": {
      "tags": []
     },
     "output_type": "execute_result"
    }
   ],
   "source": [
    "sentence=\"alhamdulillah \"\n",
    "prediksiSentiment(sentence,model)"
   ]
  },
  {
   "cell_type": "code",
   "execution_count": null,
   "metadata": {
    "hideCode": false,
    "hidePrompt": false,
    "id": "5Gyfgi_mX6dh"
   },
   "outputs": [],
   "source": [
    "positive_words"
   ]
  },
  {
   "cell_type": "code",
   "execution_count": null,
   "metadata": {
    "hideCode": false,
    "hidePrompt": false,
    "id": "vYlPiqxFX6dh"
   },
   "outputs": [],
   "source": [
    "negative_words"
   ]
  },
  {
   "cell_type": "code",
   "execution_count": null,
   "metadata": {
    "hideCode": false,
    "hidePrompt": false,
    "id": "wEEXgQelX6di"
   },
   "outputs": [],
   "source": []
  }
 ],
 "metadata": {
  "celltoolbar": "Hide code",
  "colab": {
   "collapsed_sections": [],
   "name": "part sentiment-analysis.ipynb",
   "provenance": []
  },
  "hide_code_all_hidden": false,
  "kernelspec": {
   "display_name": "Python 3",
   "language": "python",
   "name": "python3"
  },
  "language_info": {
   "codemirror_mode": {
    "name": "ipython",
    "version": 3
   },
   "file_extension": ".py",
   "mimetype": "text/x-python",
   "name": "python",
   "nbconvert_exporter": "python",
   "pygments_lexer": "ipython3",
   "version": "3.8.8"
  }
 },
 "nbformat": 4,
 "nbformat_minor": 1
}
